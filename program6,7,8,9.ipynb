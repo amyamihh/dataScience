{
  "nbformat": 4,
  "nbformat_minor": 0,
  "metadata": {
    "colab": {
      "provenance": []
    },
    "kernelspec": {
      "name": "python3",
      "display_name": "Python 3"
    },
    "language_info": {
      "name": "python"
    }
  },
  "cells": [
    {
      "cell_type": "code",
      "execution_count": null,
      "metadata": {
        "colab": {
          "base_uri": "https://localhost:8080/"
        },
        "id": "cx5ZsparAZcq",
        "outputId": "83c85920-4fed-4558-e6b2-ceab0fd2aab2"
      },
      "outputs": [
        {
          "output_type": "stream",
          "name": "stdout",
          "text": [
            "Matrix 1:\n",
            " [[1 2 3]\n",
            " [4 5 6]\n",
            " [7 8 9]]\n",
            "Matrix 2:\n",
            " [[9 8 7]\n",
            " [6 5 4]\n",
            " [3 2 1]]\n",
            "Matrix Sum:\n",
            " [[10 10 10]\n",
            " [10 10 10]\n",
            " [10 10 10]]\n",
            "Matrix Difference:\n",
            " [[-8 -6 -4]\n",
            " [-2  0  2]\n",
            " [ 4  6  8]]\n",
            "Matrix Element-wise Product:\n",
            " [[ 9 16 21]\n",
            " [24 25 24]\n",
            " [21 16  9]]\n",
            "Matrix Element-wise Division:\n",
            " [[0.11111111 0.25       0.42857143]\n",
            " [0.66666667 1.         1.5       ]\n",
            " [2.33333333 4.         9.        ]]\n",
            "Matrix Multiplication:\n",
            " [[ 30  24  18]\n",
            " [ 84  69  54]\n",
            " [138 114  90]]\n",
            "Transpose of Matrix 1:\n",
            " [[1 4 7]\n",
            " [2 5 8]\n",
            " [3 6 9]]\n",
            "Sum of Diagonal Elements of Matrix 1: 15\n"
          ]
        }
      ],
      "source": [
        "import numpy as np\n",
        "matrix1 = np.array([[1, 2, 3], [4, 5, 6], [7, 8, 9]])\n",
        "matrix2 = np.array([[9, 8, 7], [6, 5, 4], [3, 2, 1]])\n",
        "matrix_sum = matrix1 + matrix2\n",
        "matrix_diff = matrix1 - matrix2\n",
        "matrix_product = matrix1 * matrix2\n",
        "matrix_divide = matrix1 / matrix2\n",
        "matrix_multiply = np.dot(matrix1, matrix2)\n",
        "matrix1_transpose = np.transpose(matrix1)\n",
        "diagonal_sum = np.trace(matrix1)\n",
        "print(\"Matrix 1:\\n\", matrix1)\n",
        "print(\"Matrix 2:\\n\", matrix2)\n",
        "print(\"Matrix Sum:\\n\", matrix_sum)\n",
        "print(\"Matrix Difference:\\n\", matrix_diff)\n",
        "print(\"Matrix Element-wise Product:\\n\", matrix_product)\n",
        "print(\"Matrix Element-wise Division:\\n\", matrix_divide)\n",
        "print(\"Matrix Multiplication:\\n\", matrix_multiply)\n",
        "print(\"Transpose of Matrix 1:\\n\", matrix1_transpose)\n",
        "print(\"Sum of Diagonal Elements of Matrix 1:\", diagonal_sum)\n"
      ]
    },
    {
      "cell_type": "code",
      "source": [
        "import numpy as np;\n",
        "X = np.array([[1, 2],\n",
        "[3, 4]])\n",
        "Y = np.array([[5,6], [7,8]])\n",
        "print(\"Matrix X is :\\n \",X)\n",
        "print(\"Matrix Y is : \\n\",Y)\n",
        "a=np.power(X,2)\n",
        "print(\"X^2=\",a)\n",
        "result = a + 2 * Y\n",
        "print(\"X^2+2*Y is \\n \",result)"
      ],
      "metadata": {
        "colab": {
          "base_uri": "https://localhost:8080/"
        },
        "id": "wBOhUF0WEHCS",
        "outputId": "469a9c04-972f-4c67-a0db-5d7de527967e"
      },
      "execution_count": null,
      "outputs": [
        {
          "output_type": "stream",
          "name": "stdout",
          "text": [
            "Matrix X is :\n",
            "  [[1 2]\n",
            " [3 4]]\n",
            "Matrix Y is : \n",
            " [[5 6]\n",
            " [7 8]]\n",
            "X^2= [[ 1  4]\n",
            " [ 9 16]]\n",
            "X^2+2*Y is \n",
            "  [[11 16]\n",
            " [23 32]]\n"
          ]
        }
      ]
    },
    {
      "cell_type": "code",
      "source": [
        "import numpy as np\n",
        "two_dimensional_array = np.array([[1, 2, 3, 4],\n",
        "[5, 6, 7, 8],\n",
        "[9, 10, 11, 12],\n",
        "[13, 14, 15, 16]])\n",
        "excluding_first_row = two_dimensional_array[1:]\n",
        "excluding_last_column = two_dimensional_array[:, :-1]\n",
        "column_1_2_in_row_2_3 = two_dimensional_array[1:3, 0:2]\n",
        "column_2_3 = two_dimensional_array[:, 1:3]\n",
        "elements_2_3_in_first_row = two_dimensional_array[0, 1:3]\n",
        "descending_order = two_dimensional_array.ravel()[::-1][4:11]\n",
        "print(\"Original 2D array:\\n\", two_dimensional_array)\n",
        "print(\"Elements excluding the first row:\\n\", excluding_first_row)\n",
        "print(\"Elements excluding the last column:\\n\", excluding_last_column)\n",
        "print(\"Elements of the 1st and 2nd column in the 2nd and 3rd row:\\n\",\n",
        "column_1_2_in_row_2_3)\n",
        "print(\"Elements of the 2nd and 3rd column:\\n\", column_2_3)\n",
        "print(\"2nd and 3rd element of the 1st row:\\n\", elements_2_3_in_first_row)\n",
        "print(\"Elements from indices 4 to 10 in descending order:\\n\", descending_order)"
      ],
      "metadata": {
        "colab": {
          "base_uri": "https://localhost:8080/"
        },
        "id": "BqDDYle0Efcr",
        "outputId": "45fda9d3-a8d8-498d-ae30-d3142c525f79"
      },
      "execution_count": null,
      "outputs": [
        {
          "output_type": "stream",
          "name": "stdout",
          "text": [
            "Original 2D array:\n",
            " [[ 1  2  3  4]\n",
            " [ 5  6  7  8]\n",
            " [ 9 10 11 12]\n",
            " [13 14 15 16]]\n",
            "Elements excluding the first row:\n",
            " [[ 5  6  7  8]\n",
            " [ 9 10 11 12]\n",
            " [13 14 15 16]]\n",
            "Elements excluding the last column:\n",
            " [[ 1  2  3]\n",
            " [ 5  6  7]\n",
            " [ 9 10 11]\n",
            " [13 14 15]]\n",
            "Elements of the 1st and 2nd column in the 2nd and 3rd row:\n",
            " [[ 5  6]\n",
            " [ 9 10]]\n",
            "Elements of the 2nd and 3rd column:\n",
            " [[ 2  3]\n",
            " [ 6  7]\n",
            " [10 11]\n",
            " [14 15]]\n",
            "2nd and 3rd element of the 1st row:\n",
            " [2 3]\n",
            "Elements from indices 4 to 10 in descending order:\n",
            " [12 11 10  9  8  7  6]\n"
          ]
        }
      ]
    },
    {
      "cell_type": "code",
      "source": [
        "import numpy as np\n",
        "A = np.array([[2, 1,-2],[3,0,1],[1,1,-1]])\n",
        "b = np.array([-3,5,-2])\n",
        "X = np.linalg.solve(A, b)\n",
        "print(\"Matrix A:\")\n",
        "print(A)\n",
        "print(\"Vector b:\")\n",
        "print(b)\n",
        "print(\"Solution for X:\")\n",
        "print(X)"
      ],
      "metadata": {
        "colab": {
          "base_uri": "https://localhost:8080/"
        },
        "id": "XPSr5pWgEkmF",
        "outputId": "68108259-995f-4d37-b1a3-11398da122e6"
      },
      "execution_count": null,
      "outputs": [
        {
          "output_type": "stream",
          "name": "stdout",
          "text": [
            "Matrix A:\n",
            "[[ 2  1 -2]\n",
            " [ 3  0  1]\n",
            " [ 1  1 -1]]\n",
            "Vector b:\n",
            "[-3  5 -2]\n",
            "Solution for X:\n",
            "[ 1. -1.  2.]\n"
          ]
        }
      ]
    }
  ]
}