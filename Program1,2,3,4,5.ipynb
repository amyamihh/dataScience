{
  "nbformat": 4,
  "nbformat_minor": 0,
  "metadata": {
    "colab": {
      "provenance": []
    },
    "kernelspec": {
      "name": "python3",
      "display_name": "Python 3"
    },
    "language_info": {
      "name": "python"
    }
  },
  "cells": [
    {
      "cell_type": "markdown",
      "source": [
        "ARRAY OPERATIONS\n"
      ],
      "metadata": {
        "id": "FQfC0Z7ZmnRT"
      }
    },
    {
      "cell_type": "code",
      "source": [
        "import numpy as np\n",
        "array_from_list=np.array([1,2,3,4,5])\n",
        "print(\"Array from list:\",array_from_list)"
      ],
      "metadata": {
        "colab": {
          "base_uri": "https://localhost:8080/"
        },
        "id": "wBKrTkjLlXuS",
        "outputId": "fa538c47-ed53-4eb3-9ff4-6a57a2b55590"
      },
      "execution_count": 2,
      "outputs": [
        {
          "output_type": "stream",
          "name": "stdout",
          "text": [
            "Array from list: [1 2 3 4 5]\n"
          ]
        }
      ]
    },
    {
      "cell_type": "code",
      "source": [
        "\n",
        "array_with_range=np.arange(10)\n",
        "print(\"Array with range:\",array_with_range)"
      ],
      "metadata": {
        "id": "MTh8ALYfnhxL",
        "colab": {
          "base_uri": "https://localhost:8080/"
        },
        "outputId": "66dfa875-2961-4a82-d7c8-38ecbd0d44ea"
      },
      "execution_count": null,
      "outputs": [
        {
          "output_type": "stream",
          "name": "stdout",
          "text": [
            "Array with range: [0 1 2 3 4 5 6 7 8 9]\n"
          ]
        }
      ]
    },
    {
      "cell_type": "code",
      "source": [],
      "metadata": {
        "id": "rbYH-64lBvSJ"
      },
      "execution_count": null,
      "outputs": []
    },
    {
      "cell_type": "code",
      "source": [],
      "metadata": {
        "id": "GPb389YeBvP4"
      },
      "execution_count": null,
      "outputs": []
    },
    {
      "cell_type": "code",
      "source": [
        "zeros_array=np.zeros((3,3))\n",
        "print(\"Array of zeros:\\n\",zeros_array)"
      ],
      "metadata": {
        "colab": {
          "base_uri": "https://localhost:8080/"
        },
        "id": "SbgimS1spDrj",
        "outputId": "9dc38310-bc9e-4d6e-f703-099127d9de61"
      },
      "execution_count": null,
      "outputs": [
        {
          "output_type": "stream",
          "name": "stdout",
          "text": [
            "Array of zeros:\n",
            " [[0. 0. 0.]\n",
            " [0. 0. 0.]\n",
            " [0. 0. 0.]]\n"
          ]
        }
      ]
    },
    {
      "cell_type": "code",
      "source": [
        "ones_array=np.ones((2,5))\n",
        "print(\"Array of ones:\\n\",ones_array)"
      ],
      "metadata": {
        "colab": {
          "base_uri": "https://localhost:8080/"
        },
        "id": "0SK36sLNqDkC",
        "outputId": "9aa517e8-4226-46e9-eb6e-dad7a4fc5191"
      },
      "execution_count": null,
      "outputs": [
        {
          "output_type": "stream",
          "name": "stdout",
          "text": [
            "Array of ones:\n",
            " [[1. 1. 1. 1. 1.]\n",
            " [1. 1. 1. 1. 1.]]\n"
          ]
        }
      ]
    },
    {
      "cell_type": "code",
      "source": [
        "import numpy as np\n",
        "a = np.array([1, 2, 3])\n",
        "b = np.array([4, 5, 6])\n",
        "add_result = np.add(a, b)\n",
        "print(\"Addition:\", add_result)\n",
        "sub_result = np.subtract(a, b)\n",
        "print(\"Subtraction:\", sub_result)\n",
        "mul_result = np.multiply(a, b)\n",
        "print(\"Multiplication:\", mul_result)\n",
        "div_result = np.divide(a, b)\n",
        "print(\"Division:\", div_result)"
      ],
      "metadata": {
        "id": "_mrkZfZMr3D6",
        "colab": {
          "base_uri": "https://localhost:8080/"
        },
        "outputId": "d740a808-56c6-4f76-b2de-9c9f82de8e74"
      },
      "execution_count": 3,
      "outputs": [
        {
          "output_type": "stream",
          "name": "stdout",
          "text": [
            "Addition: [5 7 9]\n",
            "Subtraction: [-3 -3 -3]\n",
            "Multiplication: [ 4 10 18]\n",
            "Division: [0.25 0.4  0.5 ]\n"
          ]
        }
      ]
    },
    {
      "cell_type": "code",
      "source": [
        "import numpy as np\n",
        "array = np.arange(12)\n",
        "print(\"Original array:\", array)\n",
        "reshaped_array = array.reshape((3, 4))\n",
        "print(\"Reshaped to 3x4:\\n\", reshaped_array)\n",
        "reshaped_array_3d = array.reshape((2, 3, 2))\n",
        "print(\"Reshaped to 2x3x2:\\n\", reshaped_array_3d)"
      ],
      "metadata": {
        "colab": {
          "base_uri": "https://localhost:8080/"
        },
        "id": "GF4RSUWHQUGE",
        "outputId": "dffe0638-ffff-47d7-ad8a-5fc2dcb0050e"
      },
      "execution_count": 4,
      "outputs": [
        {
          "output_type": "stream",
          "name": "stdout",
          "text": [
            "Original array: [ 0  1  2  3  4  5  6  7  8  9 10 11]\n",
            "Reshaped to 3x4:\n",
            " [[ 0  1  2  3]\n",
            " [ 4  5  6  7]\n",
            " [ 8  9 10 11]]\n",
            "Reshaped to 2x3x2:\n",
            " [[[ 0  1]\n",
            "  [ 2  3]\n",
            "  [ 4  5]]\n",
            "\n",
            " [[ 6  7]\n",
            "  [ 8  9]\n",
            "  [10 11]]]\n"
          ]
        }
      ]
    },
    {
      "cell_type": "code",
      "source": [
        "import numpy as np\n",
        "array_2d = np.array([[1, 2, 3], [4, 5, 6], [7, 8, 9]])\n",
        "print(\"2D Array:\\n\", array_2d)\n",
        "element = array_2d[1, 2]\n",
        "print(\"Element at (1, 2):\", element)\n",
        "subarray = array_2d[1:3, 0:2]\n",
        "print(\"Sliced subarray:\\n\", subarray)\n",
        "column = array_2d[:, 1]\n",
        "print(\"Column 1:\", column)"
      ],
      "metadata": {
        "colab": {
          "base_uri": "https://localhost:8080/"
        },
        "id": "c95iLgGbQnX2",
        "outputId": "6c5647a3-45e3-4f93-eaea-6b8fe37be0b3"
      },
      "execution_count": 6,
      "outputs": [
        {
          "output_type": "stream",
          "name": "stdout",
          "text": [
            "2D Array:\n",
            " [[1 2 3]\n",
            " [4 5 6]\n",
            " [7 8 9]]\n",
            "Element at (1, 2): 6\n",
            "Sliced subarray:\n",
            " [[4 5]\n",
            " [7 8]]\n",
            "Column 1: [2 5 8]\n"
          ]
        }
      ]
    },
    {
      "cell_type": "code",
      "source": [
        "import numpy as np\n",
        "array = np.array([1, 2, 3, 4, 5, 6, 7, 8, 9, 10])\n",
        "mean = np.mean(array)\n",
        "print(\"Mean:\", mean)\n",
        "median = np.median(array)\n",
        "print(\"Median:\", median)\n",
        "std_dev = np.std(array)\n",
        "print(\"Standard Deviation:\", std_dev)\n",
        "min_val = np.min(array)\n",
        "max_val = np.max(array)\n",
        "print(\"Minimum value:\", min_val)\n",
        "print(\"Maximum value:\", max_val)"
      ],
      "metadata": {
        "colab": {
          "base_uri": "https://localhost:8080/"
        },
        "id": "MF57N7pEQ2Cg",
        "outputId": "80bc1f48-f6ff-43e6-d28e-4dc17999cd24"
      },
      "execution_count": 7,
      "outputs": [
        {
          "output_type": "stream",
          "name": "stdout",
          "text": [
            "Mean: 5.5\n",
            "Median: 5.5\n",
            "Standard Deviation: 2.8722813232690143\n",
            "Minimum value: 1\n",
            "Maximum value: 10\n"
          ]
        }
      ]
    }
  ]
}